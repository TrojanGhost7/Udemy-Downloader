{
  "nbformat": 4,
  "nbformat_minor": 0,
  "metadata": {
    "colab": {
      "name": "Udemy To G-Drive Downloader.ipynb",
      "provenance": [],
      "collapsed_sections": [],
      "authorship_tag": "ABX9TyNGTOPafqLgnCWzjuMIs0uX",
      "include_colab_link": true
    },
    "kernelspec": {
      "name": "python3",
      "display_name": "Python 3"
    }
  },
  "cells": [
    {
      "cell_type": "markdown",
      "metadata": {
        "id": "view-in-github",
        "colab_type": "text"
      },
      "source": [
        "<a href=\"https://colab.research.google.com/github/TrojanGhost7/Udemy-Downloader/blob/main/Udemy_To_G_Drive_Downloader.ipynb\" target=\"_parent\"><img src=\"https://colab.research.google.com/assets/colab-badge.svg\" alt=\"Open In Colab\"/></a>"
      ]
    },
    {
      "cell_type": "markdown",
      "metadata": {
        "id": "ICBMgbGuFmpj"
      },
      "source": [
        "# Mount Drive"
      ]
    },
    {
      "cell_type": "code",
      "metadata": {
        "cellView": "form",
        "id": "EMIXihVhPSrf"
      },
      "source": [
        "#@markdown <br><center><img src='https://upload.wikimedia.org/wikipedia/commons/thumb/d/da/Google_Drive_logo.png/600px-Google_Drive_logo.png' height=\"50\" alt=\"Gdrive-logo\"/></center>\n",
        "#@markdown <center><h3>Mount Gdrive</h3></center><br>\n",
        "MODE = \"MOUNT\" #@param [\"MOUNT\", \"UNMOUNT\"]\n",
        "#Mount your Gdrive! \n",
        "from google.colab import drive\n",
        "drive.mount._DEBUG = False\n",
        "if MODE == \"MOUNT\":\n",
        "  drive.mount('/content/drive', force_remount=True)\n",
        "elif MODE == \"UNMOUNT\":\n",
        "  try:\n",
        "    drive.flush_and_unmount()\n",
        "  except ValueError:\n",
        "    pass\n",
        "  get_ipython().system_raw(\"rm -rf /root/.config/Google/DriveFS\")"
      ],
      "execution_count": 13,
      "outputs": []
    },
    {
      "cell_type": "markdown",
      "metadata": {
        "id": "wsQj7xEbxZxb"
      },
      "source": [
        "# Udemy Course Downloader\n"
      ]
    },
    {
      "cell_type": "code",
      "metadata": {
        "id": "smaPV4ORxeDD",
        "cellView": "form"
      },
      "source": [
        "#@markdown <center><br><h3> Run This First <center><h3>\n",
        "!git clone https://github.com/TrojanGhost7/Udemy-Downloader.git"
      ],
      "execution_count": null,
      "outputs": []
    },
    {
      "cell_type": "code",
      "metadata": {
        "id": "ovE0T9qDx3qW",
        "cellView": "form"
      },
      "source": [
        "#@markdown <center><br><h3> Install Requirements <center><h3>\n",
        "!pip install -r \"/content/Udemy-Downloader/Udemy To Google Drive/requirements.txt\""
      ],
      "execution_count": null,
      "outputs": []
    },
    {
      "cell_type": "markdown",
      "metadata": {
        "id": "DPv3kE8q2Kqn"
      },
      "source": [
        "# Main Downloader\n",
        "**You can Modify The code..**\n",
        "\n",
        "**Provide The link or many links in a TXT File**"
      ]
    },
    {
      "cell_type": "code",
      "metadata": {
        "id": "Wd0dz4_12JdL",
        "cellView": "form"
      },
      "source": [
        "#@markdown <center><br><h3> Welcome To The Main Downloader\n",
        "URL = \"\" #@param {type : \"string\"}\n",
        "COOKIES_LOCATION = \"\" #@param {type : \"string\"}\n",
        "SAVE_LOCATION = \"\" #@param {type : \"string\"}\n",
        "TXT_FILE_LOCATION = \"\" #@param {type : \"string\"}\n",
        "!python \"/content/Udemy-Downloader/Udemy To Google Drive/udemy-dl.py\" {TXT_FILE_LOCATION or URL} -o \"{SAVE_LOCATION}\" -k {COOKIES_LOCATION}"
      ],
      "execution_count": null,
      "outputs": []
    },
    {
      "cell_type": "markdown",
      "metadata": {
        "id": "YGHBSLRdYWBg"
      },
      "source": [
        "# Using The Code"
      ]
    },
    {
      "cell_type": "markdown",
      "metadata": {
        "id": "Cs38qd-AYdHZ"
      },
      "source": [
        "\n",
        "**udemy-downloader**\n",
        "\n",
        "**A cross-platform python based utility to download courses from udemy for personal offline use.**\n",
        "\n",
        "**Usage :**\n",
        "\n",
        "***Download a course***\n",
        "\n",
        "    python udemy-dl.py COURSE_URL\n",
        "\n",
        "***Download a courses from file***\n",
        "\n",
        "    python udemy-dl.py FILE-CONTAINING-COURSE-URLs\n",
        "  \n",
        "***Download course with specific resolution***\n",
        "\n",
        "    python udemy-dl.py COURSE_URL -q 720\n",
        "  \n",
        "***Download course to a specific location***\n",
        "\n",
        "    python udemy-dl.py COURSE_URL -o \"/path/to/directory/\"\n",
        "  \n",
        "***Download course with specific resolution to a specific location***\n",
        "\n",
        "    python udemy-dl.py COURSE_URL -q 720 -o \"/path/to/directory/\"\n",
        "\n",
        "***Download specific chapter from a course***\n",
        "\n",
        "    python udemy-dl.py COURSE_URL -c NUMBER\n",
        "\n",
        "***Download specific lecture from a chapter***\n",
        "\n",
        "    python udemy-dl.py COURSE_URL -c NUMBER -l NUMBER\n",
        "\n",
        "***Download lecture(s) range from a specific chapter***\n",
        "\n",
        "    python udemy-dl.py COURSE_URL -c NUMBER --lecture-start NUMBER --lecture-end NUMBER\n",
        "\n",
        "***Download chapter(s) range from a course***\n",
        "\n",
        "    python udemy-dl.py COURSE_URL --chapter-start NUMBER --chapter-end NUMBER\n",
        "\n",
        "***Download specific lecture from chapter(s) range***\n",
        "\n",
        "    python udemy-dl.py COURSE_URL --chapter-start NUMBER --chapter-end NUMBER --lecture NUMBER\n",
        "\n",
        "***Download lecture(s) range from chapter(s) range***\n",
        "\n",
        "    python udemy-dl.py COURSE_URL --chapter-start NUMBER --chapter-end NUMBER --lecture-start NUMBER --lecture-end NUMBER\n",
        "\n",
        "***List down specific chapter from a course***\n",
        "\n",
        "    python udemy-dl.py COURSE_URL -c NUMBER --info\n",
        "\n",
        "***List down specific lecture from a chapter***\n",
        "\n",
        "    python udemy-dl.py COURSE_URL -c NUMBER -l NUMBER --info\n",
        "\n",
        "***Download specific subtite by using language code such as (en, es) if lang switch is not specified then default will be all subtitles***\n",
        "\n",
        "    python udemy-dl.py COURSE_URL --sub-lang en\n",
        "\n",
        "\n",
        "## **Advanced Usage**\n",
        "\n",
        "<pre><code>\n",
        "usage: udemy-dl.py [-h] [-v] [-u] [-p] [-k] [-o] [-q] [-c] [-l] [-s] [--chapter-start] [--chapter-end] [--lecture-start] [--lecture-end] [--info]\n",
        "                   [--keep-vtt] [--sub-only] [--skip-sub] [--skip-hls] [--assets-only] [--skip-assets]\n",
        "                   course\n",
        "\n",
        "A cross-platform python based utility to download courses from udemy for personal offline use.\n",
        "\n",
        "positional arguments:\n",
        "  course            Udemy course.\n",
        "\n",
        "General:\n",
        "  -h, --help        Shows the help.\n",
        "  -v, --version     Shows the version.\n",
        "\n",
        "Authentication:\n",
        "  -u , --username   Username in udemy.\n",
        "  -p , --password   Password of your account.\n",
        "  -k , --cookies    Cookies to authenticate with.\n",
        "\n",
        "Advance:\n",
        "  -o , --output     Download to specific directory.\n",
        "  -q , --quality    Download specific video quality.\n",
        "  -c , --chapter    Download specific chapter from course.\n",
        "  -l , --lecture    Download specific lecture from chapter(s).\n",
        "  -s , --sub-lang   Download specific subtitle/caption (e.g:- en).\n",
        "  --chapter-start   Download from specific position within course.\n",
        "  --chapter-end     Download till specific position within course.\n",
        "  --lecture-start   Download from specific position within chapter(s).\n",
        "  --lecture-end     Download till specific position within chapter(s).\n",
        "\n",
        "Others:\n",
        "  --info            List all lectures with available resolution.\n",
        "  --keep-vtt        Keep WebVTT caption(s).\n",
        "  --sub-only        Download captions/subtitle only.\n",
        "  --skip-sub        Download course but skip captions/subtitle.\n",
        "  --skip-hls        Download course but skip hls streams. (fast fetching).\n",
        "  --assets-only     Download asset(s) only.\n",
        "  --skip-assets     Download course but skip asset(s).\n",
        "\n",
        "Example:\n",
        "  python udemy-dl.py  COURSE_URL\n",
        "  python udemy-dl.py  COURSE_URL -k cookies.txt\n",
        "  python udemy-dl.py -u user@domain.com -p p4ssw0rd COURSE_URL\n",
        "</code></pre>"
      ]
    }
  ]
}